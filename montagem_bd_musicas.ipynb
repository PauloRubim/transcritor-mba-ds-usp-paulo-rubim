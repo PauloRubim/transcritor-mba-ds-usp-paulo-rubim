{
 "cells": [
  {
   "cell_type": "code",
   "execution_count": 12,
   "id": "8bfe7cac-b8b1-4641-b19f-50adf2a232af",
   "metadata": {},
   "outputs": [],
   "source": [
    "import pandas as pd\n",
    "import os\n",
    "import numpy as np\n",
    "import re"
   ]
  },
  {
   "cell_type": "markdown",
   "id": "2f5279ea-814a-48eb-9d27-27595ce00a37",
   "metadata": {},
   "source": [
    "### ETL"
   ]
  },
  {
   "cell_type": "code",
   "execution_count": 70,
   "id": "0f012ee1-7e60-4b10-b760-1b919bfe80e7",
   "metadata": {},
   "outputs": [
    {
     "data": {
      "text/html": [
       "<div>\n",
       "<style scoped>\n",
       "    .dataframe tbody tr th:only-of-type {\n",
       "        vertical-align: middle;\n",
       "    }\n",
       "\n",
       "    .dataframe tbody tr th {\n",
       "        vertical-align: top;\n",
       "    }\n",
       "\n",
       "    .dataframe thead th {\n",
       "        text-align: right;\n",
       "    }\n",
       "</style>\n",
       "<table border=\"1\" class=\"dataframe\">\n",
       "  <thead>\n",
       "    <tr style=\"text-align: right;\">\n",
       "      <th></th>\n",
       "      <th>Phonetic</th>\n",
       "      <th>English</th>\n",
       "      <th>Portuguese</th>\n",
       "      <th>music_url</th>\n",
       "    </tr>\n",
       "  </thead>\n",
       "  <tbody>\n",
       "    <tr>\n",
       "      <th>0</th>\n",
       "      <td>bikóz ai lâv̳</td>\n",
       "      <td>Because I love</td>\n",
       "      <td>Porque eu amo</td>\n",
       "      <td>https://www.cantaringles.com/because-i-love-so...</td>\n",
       "    </tr>\n",
       "    <tr>\n",
       "      <th>1</th>\n",
       "      <td>ól dei ai s̗ênk̳ óv̳ iú</td>\n",
       "      <td>All day I think of you</td>\n",
       "      <td>Todo dia eu penso em você</td>\n",
       "      <td>https://www.cantaringles.com/because-i-love-so...</td>\n",
       "    </tr>\n",
       "    <tr>\n",
       "      <th>2</th>\n",
       "      <td>iú fêl mai maind̳ fûl óv̳ dr̰ím̜s</td>\n",
       "      <td>You fill my mind full of dreams</td>\n",
       "      <td>Você enche minha mente de sonhos</td>\n",
       "      <td>https://www.cantaringles.com/because-i-love-so...</td>\n",
       "    </tr>\n",
       "    <tr>\n",
       "      <th>3</th>\n",
       "      <td>bikóz ai lâv̳</td>\n",
       "      <td>Because I love</td>\n",
       "      <td>Porque eu amo</td>\n",
       "      <td>https://www.cantaringles.com/because-i-love-so...</td>\n",
       "    </tr>\n",
       "    <tr>\n",
       "      <th>4</th>\n",
       "      <td>NaN</td>\n",
       "      <td>NaN</td>\n",
       "      <td>NaN</td>\n",
       "      <td>https://www.cantaringles.com/because-i-love-so...</td>\n",
       "    </tr>\n",
       "  </tbody>\n",
       "</table>\n",
       "</div>"
      ],
      "text/plain": [
       "                            Phonetic                          English  \\\n",
       "0                      bikóz ai lâv̳                   Because I love   \n",
       "1            ól dei ai s̗ênk̳ óv̳ iú           All day I think of you   \n",
       "2  iú fêl mai maind̳ fûl óv̳ dr̰ím̜s  You fill my mind full of dreams   \n",
       "3                      bikóz ai lâv̳                   Because I love   \n",
       "4                                NaN                              NaN   \n",
       "\n",
       "                         Portuguese  \\\n",
       "0                     Porque eu amo   \n",
       "1         Todo dia eu penso em você   \n",
       "2  Você enche minha mente de sonhos   \n",
       "3                     Porque eu amo   \n",
       "4                               NaN   \n",
       "\n",
       "                                           music_url  \n",
       "0  https://www.cantaringles.com/because-i-love-so...  \n",
       "1  https://www.cantaringles.com/because-i-love-so...  \n",
       "2  https://www.cantaringles.com/because-i-love-so...  \n",
       "3  https://www.cantaringles.com/because-i-love-so...  \n",
       "4  https://www.cantaringles.com/because-i-love-so...  "
      ]
     },
     "execution_count": 70,
     "metadata": {},
     "output_type": "execute_result"
    }
   ],
   "source": [
    "df_raw_01 = pd.read_csv('ws_transcritor_database_v7.csv')\n",
    "df_raw_02 = pd.read_csv('ws_transcritor_database_v8.csv')\n",
    "\n",
    "df_raw = pd.concat([df_raw_01, df_raw_02])\n",
    "df_raw.head()"
   ]
  },
  {
   "cell_type": "code",
   "execution_count": 72,
   "id": "e331cbe8-368c-4cc0-a9d2-f97b03399f51",
   "metadata": {},
   "outputs": [
    {
     "data": {
      "text/plain": [
       "(371944, 4)"
      ]
     },
     "execution_count": 72,
     "metadata": {},
     "output_type": "execute_result"
    }
   ],
   "source": [
    "df_raw.shape"
   ]
  },
  {
   "cell_type": "code",
   "execution_count": 10,
   "id": "d0351e84-fb57-40ad-9330-972d18879d54",
   "metadata": {},
   "outputs": [
    {
     "data": {
      "text/plain": [
       "Phonetic      7481\n",
       "English       7476\n",
       "Portuguese    7493\n",
       "music_url        0\n",
       "dtype: int64"
      ]
     },
     "execution_count": 10,
     "metadata": {},
     "output_type": "execute_result"
    }
   ],
   "source": [
    "df_raw.isnull().sum()"
   ]
  },
  {
   "cell_type": "code",
   "execution_count": 74,
   "id": "1d5b2dbe-ada3-4417-bc99-a50c01bce090",
   "metadata": {},
   "outputs": [
    {
     "data": {
      "text/plain": [
       "(219504, 4)"
      ]
     },
     "execution_count": 74,
     "metadata": {},
     "output_type": "execute_result"
    }
   ],
   "source": [
    "# Garantir que os dados são strings\n",
    "df_v01 = df_raw.replace('', np.nan)\n",
    "# Remover linhas que contêm NaN em qualquer coluna\n",
    "df_v01.dropna(how='any', inplace=True)\n",
    "\n",
    "df_v01.drop_duplicates(subset='English', keep='first', inplace=True)\n",
    "df_v01.shape"
   ]
  },
  {
   "cell_type": "code",
   "execution_count": 76,
   "id": "54948632-5419-4cde-9b35-f78b53550c0f",
   "metadata": {},
   "outputs": [],
   "source": [
    "df_v01['Phonetic'] = df_v01['Phonetic'].astype(str).str.lower()"
   ]
  },
  {
   "cell_type": "code",
   "execution_count": 113,
   "id": "c99f9210-3e6f-4030-af6c-fff6e44531dc",
   "metadata": {},
   "outputs": [],
   "source": [
    "substituicoes = {',': '', '(':'', ')':'', '.': '', '!': '', '?': '',\n",
    "                 ' ´': '', '...': '', '-': ' ', '\"': '', '…': '', '“':'',\n",
    "                 '”': '',' ‘':'',' ‛':'', ':': ''}\n",
    "\n",
    "df_v01 = df_v01.apply(lambda x: x.str.replace('|'.join(map(re.escape, substituicoes.keys())), \n",
    "                                      lambda match: substituicoes[match.group(0)], \n",
    "                                      regex=True))\n",
    "\n",
    "df_v02 = df_v01.replace({r\"\\b'(\\w+)\": r\"\\1\"}, regex=True)\n",
    "# df_v01 = df_raw.replace(letras_replace)"
   ]
  },
  {
   "cell_type": "code",
   "execution_count": 24,
   "id": "c8d29036-650c-424a-94b4-044eee5934a7",
   "metadata": {},
   "outputs": [
    {
     "data": {
      "text/plain": [
       "Phonetic      0\n",
       "English       0\n",
       "Portuguese    0\n",
       "music_url     0\n",
       "dtype: int64"
      ]
     },
     "execution_count": 24,
     "metadata": {},
     "output_type": "execute_result"
    }
   ],
   "source": [
    "df_v02.isnull().sum()"
   ]
  },
  {
   "cell_type": "code",
   "execution_count": 28,
   "id": "e3a6444a-94eb-4854-9136-786c965a8479",
   "metadata": {},
   "outputs": [],
   "source": [
    "# !pip install lingua-language-detector"
   ]
  },
  {
   "cell_type": "code",
   "execution_count": 115,
   "id": "6ff01612-a9ce-4c45-b3c4-f8a1695e677c",
   "metadata": {},
   "outputs": [],
   "source": [
    "from lingua import Language, LanguageDetectorBuilder\n",
    "import pandas as pd\n",
    "\n",
    "# Definir os idiomas que queremos detectar\n",
    "languages = [Language.ENGLISH, Language.SPANISH]\n",
    "\n",
    "# Criar o detector de idiomas otimizando para esses três idiomas\n",
    "detector = LanguageDetectorBuilder.from_languages(*languages).build()\n",
    "\n",
    "# Função para detectar idioma com `lingua`\n",
    "def detect_lingua(text):\n",
    "    lang = detector.detect_language_of(text)\n",
    "    return lang.iso_code_639_1 if lang else \"unknown\"  # Retorna 'en', 'es', 'pt' ou 'unknown'\n",
    "\n",
    "# Aplicar detecção ao DataFrame\n",
    "df_v02['lang_lingua'] = df_v02['English'].apply(detect_lingua)"
   ]
  },
  {
   "cell_type": "code",
   "execution_count": 116,
   "id": "29a96814-1bb4-4026-8378-a017b557a273",
   "metadata": {},
   "outputs": [],
   "source": [
    "df_v03 = df_v02.copy()\n",
    "df_v03['lang_lingua'] = df_v03['lang_lingua'].astype(str)"
   ]
  },
  {
   "cell_type": "code",
   "execution_count": 117,
   "id": "0b7f8759-bc46-48d8-8ebd-5c4c533baff4",
   "metadata": {},
   "outputs": [
    {
     "data": {
      "text/plain": [
       "(218247, 5)"
      ]
     },
     "execution_count": 117,
     "metadata": {},
     "output_type": "execute_result"
    }
   ],
   "source": [
    "# Filtrar frases detectadas como espanhol ('es') ou português ('pt')\n",
    "df_v03 = df_v03[~df_v03['lang_lingua'].isin(['IsoCode639_1.ES'])]\n",
    "df_v03.shape"
   ]
  },
  {
   "cell_type": "code",
   "execution_count": 118,
   "id": "f567e934-bb33-429a-ac6e-61670e93a503",
   "metadata": {},
   "outputs": [
    {
     "data": {
      "text/plain": [
       "array(['IsoCode639_1.EN', 'unknown'], dtype=object)"
      ]
     },
     "execution_count": 118,
     "metadata": {},
     "output_type": "execute_result"
    }
   ],
   "source": [
    "df_v03.lang_lingua.unique()"
   ]
  },
  {
   "cell_type": "code",
   "execution_count": 119,
   "id": "89539499-56b1-40f7-9446-00baf78b333c",
   "metadata": {},
   "outputs": [],
   "source": [
    "df_v03 = df_v03[['English', 'Phonetic']].apply(lambda col: col.str.lower() if col.dtype == \"object\" else col)\n",
    "df_v03.columns = ['english', 'phonetic']\n",
    "df_v03 = df_v03.reset_index(drop = True)"
   ]
  },
  {
   "cell_type": "code",
   "execution_count": 37,
   "id": "02f77215-5207-4b69-81f4-10dd2530844b",
   "metadata": {},
   "outputs": [
    {
     "data": {
      "text/plain": [
       "8472"
      ]
     },
     "execution_count": 37,
     "metadata": {},
     "output_type": "execute_result"
    }
   ],
   "source": [
    "len(df_v01.music_url.unique())"
   ]
  },
  {
   "cell_type": "markdown",
   "id": "f5e97b6b-31c3-472f-aff5-1557b3cb15c8",
   "metadata": {},
   "source": [
    "### Quebra de frases"
   ]
  },
  {
   "cell_type": "code",
   "execution_count": 123,
   "id": "0569f940-3e0e-4369-a9d7-aacfe2ac4b54",
   "metadata": {},
   "outputs": [],
   "source": [
    "def quebrar_em_combinacoes(df):\n",
    "    novos_dados = []\n",
    "\n",
    "    for index, row in df.iterrows():\n",
    "        source_words = row['english'].split()\n",
    "        target_words = row['phonetic'].split()\n",
    "\n",
    "        # Garantir que ambas as listas tenham o mesmo número de palavras\n",
    "        if len(source_words) == len(target_words):\n",
    "            for n in range(1, 9):  # pares (2) até quinas (5)\n",
    "                for i in range(len(source_words) - n + 1):\n",
    "                    novos_dados.append([\n",
    "                        \" \".join(source_words[i:i+n]), \n",
    "                        \" \".join(target_words[i:i+n])\n",
    "                    ])\n",
    "\n",
    "    # Criar novo DataFrame com as combinações\n",
    "    novo_df = pd.DataFrame(novos_dados, columns=['english', 'phonetic'])\n",
    "\n",
    "\n",
    "\n",
    "    return novo_df\n",
    "\n",
    "# Aplicar ao DataFrame original\n",
    "database_combinations = quebrar_em_combinacoes(df_v03)\n"
   ]
  },
  {
   "cell_type": "code",
   "execution_count": 129,
   "id": "1572c81d-4e96-44b7-b2b6-9ff54d96ae7e",
   "metadata": {},
   "outputs": [
    {
     "data": {
      "text/plain": [
       "(2291581, 2)"
      ]
     },
     "execution_count": 129,
     "metadata": {},
     "output_type": "execute_result"
    }
   ],
   "source": [
    "database_combinations = database_combinations.drop_duplicates()\n",
    "database_combinations"
   ]
  },
  {
   "cell_type": "code",
   "execution_count": 98,
   "id": "e3aebe18-e6b8-48ca-bab7-2c8860c71666",
   "metadata": {},
   "outputs": [
    {
     "data": {
      "text/html": [
       "<div>\n",
       "<style scoped>\n",
       "    .dataframe tbody tr th:only-of-type {\n",
       "        vertical-align: middle;\n",
       "    }\n",
       "\n",
       "    .dataframe tbody tr th {\n",
       "        vertical-align: top;\n",
       "    }\n",
       "\n",
       "    .dataframe thead th {\n",
       "        text-align: right;\n",
       "    }\n",
       "</style>\n",
       "<table border=\"1\" class=\"dataframe\">\n",
       "  <thead>\n",
       "    <tr style=\"text-align: right;\">\n",
       "      <th></th>\n",
       "      <th>Phonetic</th>\n",
       "      <th>English</th>\n",
       "      <th>Portuguese</th>\n",
       "      <th>music_url</th>\n",
       "    </tr>\n",
       "  </thead>\n",
       "  <tbody>\n",
       "    <tr>\n",
       "      <th>0</th>\n",
       "      <td>bikóz ai lâv̳</td>\n",
       "      <td>Because I love</td>\n",
       "      <td>Porque eu amo</td>\n",
       "      <td>https://www.cantaringles.com/because-i-love-so...</td>\n",
       "    </tr>\n",
       "    <tr>\n",
       "      <th>1</th>\n",
       "      <td>ól dei ai s̗ênk̳ óv̳ iú</td>\n",
       "      <td>All day I think of you</td>\n",
       "      <td>Todo dia eu penso em você</td>\n",
       "      <td>https://www.cantaringles.com/because-i-love-so...</td>\n",
       "    </tr>\n",
       "    <tr>\n",
       "      <th>2</th>\n",
       "      <td>iú fêl mai maind̳ fûl óv̳ dr̰ím̜s</td>\n",
       "      <td>You fill my mind full of dreams</td>\n",
       "      <td>Você enche minha mente de sonhos</td>\n",
       "      <td>https://www.cantaringles.com/because-i-love-so...</td>\n",
       "    </tr>\n",
       "    <tr>\n",
       "      <th>5</th>\n",
       "      <td>ai si z̗ét̳ gâr̰l</td>\n",
       "      <td>I see that girl</td>\n",
       "      <td>Eu vejo aquela garota</td>\n",
       "      <td>https://www.cantaringles.com/because-i-love-so...</td>\n",
       "    </tr>\n",
       "    <tr>\n",
       "      <th>6</th>\n",
       "      <td>z̗ou xis far̰ âuêi</td>\n",
       "      <td>Though she’s far away</td>\n",
       "      <td>Embora ela esteja longe</td>\n",
       "      <td>https://www.cantaringles.com/because-i-love-so...</td>\n",
       "    </tr>\n",
       "  </tbody>\n",
       "</table>\n",
       "</div>"
      ],
      "text/plain": [
       "                            Phonetic                          English  \\\n",
       "0                      bikóz ai lâv̳                   Because I love   \n",
       "1            ól dei ai s̗ênk̳ óv̳ iú           All day I think of you   \n",
       "2  iú fêl mai maind̳ fûl óv̳ dr̰ím̜s  You fill my mind full of dreams   \n",
       "5                  ai si z̗ét̳ gâr̰l                  I see that girl   \n",
       "6                 z̗ou xis far̰ âuêi            Though she’s far away   \n",
       "\n",
       "                         Portuguese  \\\n",
       "0                     Porque eu amo   \n",
       "1         Todo dia eu penso em você   \n",
       "2  Você enche minha mente de sonhos   \n",
       "5             Eu vejo aquela garota   \n",
       "6           Embora ela esteja longe   \n",
       "\n",
       "                                           music_url  \n",
       "0  https://www.cantaringles.com/because-i-love-so...  \n",
       "1  https://www.cantaringles.com/because-i-love-so...  \n",
       "2  https://www.cantaringles.com/because-i-love-so...  \n",
       "5  https://www.cantaringles.com/because-i-love-so...  \n",
       "6  https://www.cantaringles.com/because-i-love-so...  "
      ]
     },
     "execution_count": 98,
     "metadata": {},
     "output_type": "execute_result"
    }
   ],
   "source": [
    "df_v01.head()"
   ]
  },
  {
   "cell_type": "code",
   "execution_count": 162,
   "id": "e82ca5e7-e4aa-45b5-a7a7-d331468ab2bf",
   "metadata": {},
   "outputs": [],
   "source": [
    "# def corrigir_apostrofos(texto):\n",
    "#     if pd.isna(texto):\n",
    "#         return texto\n",
    "#     return (str(texto)\n",
    "#             .replace('´', \"'\")   # Acento agudo → Apóstrofo\n",
    "#             .replace('′', \"'\")   # Prime → Apóstrofo\n",
    "#             .replace('’', \"'\")   # Aspas direita → Apóstrofo\n",
    "#             .replace('‘', \"'\")   # Aspas esquerda → Apóstrofo\n",
    "#            )\n",
    "\n",
    "# # Aplicar a correção na coluna 'phonetic'\n",
    "# final_database['english'] = final_database['english'].apply(corrigir_apostrofos)\n",
    "# final_database['phonetic'] = final_database['phonetic'].apply(corrigir_apostrofos)"
   ]
  },
  {
   "cell_type": "code",
   "execution_count": 195,
   "id": "c0feead0-4b1f-4fc1-a8db-3e1594855512",
   "metadata": {},
   "outputs": [],
   "source": [
    "def limpar_apostrofos_inicio_fim(texto):\n",
    "    if pd.isna(texto):\n",
    "        return texto\n",
    "    texto = str(texto)\n",
    "    # 1. Remove apóstrofo no início da palavra\n",
    "    texto = re.sub(r\"(?<=\\s)'\", '', texto)  # Após espaço\n",
    "    texto = re.sub(r\"^'\", '', texto)        # No começo da frase\n",
    "    \n",
    "    # 2. Remove apóstrofo no final da palavra\n",
    "    texto = re.sub(r\"'(?=\\s|$)\", '', texto)  # Antes de espaço ou fim da frase\n",
    "    \n",
    "    return texto\n",
    "\n",
    "# Aplicar limpeza nas colunas\n",
    "final_database['english'] = final_database['english'].apply(limpar_apostrofos_inicio_fim)"
   ]
  },
  {
   "cell_type": "code",
   "execution_count": 254,
   "id": "c2f66269-2656-41ea-b36d-ef1a3ac78c50",
   "metadata": {},
   "outputs": [
    {
     "data": {
      "text/plain": [
       "(2291580, 2)"
      ]
     },
     "execution_count": 254,
     "metadata": {},
     "output_type": "execute_result"
    }
   ],
   "source": [
    "final_database.shape"
   ]
  },
  {
   "cell_type": "code",
   "execution_count": 208,
   "id": "f23d9694-695d-4c17-836c-f2779a947879",
   "metadata": {},
   "outputs": [
    {
     "data": {
      "text/plain": [
       "False"
      ]
     },
     "execution_count": 208,
     "metadata": {},
     "output_type": "execute_result"
    }
   ],
   "source": [
    "final_database.isnull().values.any()"
   ]
  },
  {
   "cell_type": "code",
   "execution_count": 228,
   "id": "634bc8b9-25d8-42a6-b0a1-8faf68d67023",
   "metadata": {},
   "outputs": [],
   "source": [
    "# Função para identificar registros inválidos\n",
    "def deve_remover(texto):\n",
    "    if pd.isna(texto):\n",
    "        return False\n",
    "    texto = str(texto).strip().lower()\n",
    "    palavras = texto.split()\n",
    "    return (len(palavras) == 1 and palavras[0] == 'null') or (len(palavras) == 1 and palavras[0] == 'NaN')\n",
    "\n",
    "# Aplicar a função na coluna desejada, por exemplo 'phonetic'\n",
    "final_database = final_database[~final_database['english'].apply(deve_remover)]"
   ]
  },
  {
   "cell_type": "code",
   "execution_count": 232,
   "id": "7356d94f-4258-4ac1-ae29-fdaa86a48fb6",
   "metadata": {},
   "outputs": [],
   "source": [
    "# final_database.to_csv('words_and_frases_database_v8.csv', index=False)"
   ]
  },
  {
   "cell_type": "code",
   "execution_count": 145,
   "id": "5176cf78-2988-4f57-9497-7cfc590474d8",
   "metadata": {},
   "outputs": [],
   "source": [
    "# final_database.sample(n = 20, ignore_index = True).to_csv('amostra_words_and_frases_database_v8.csv', index=False)"
   ]
  },
  {
   "cell_type": "code",
   "execution_count": 244,
   "id": "89509c6e-2324-4ee6-9992-ac1f862b718f",
   "metadata": {},
   "outputs": [
    {
     "name": "stdout",
     "output_type": "stream",
     "text": [
      "categoria_tamanho\n",
      "Média (4–6 palavras)    1269593\n",
      "Curta (2–3 palavras)     689251\n",
      "Longa (7+ palavras)      311221\n",
      "Única palavra             21515\n",
      "Name: count, dtype: int64\n"
     ]
    }
   ],
   "source": [
    "# Função para categorizar frases\n",
    "df = final_database.copy()\n",
    "\n",
    "def categorizar_tamanho(frase):\n",
    "    num_palavras = len(frase.split())\n",
    "    if num_palavras == 1:\n",
    "        return \"Única palavra\"\n",
    "    elif 2 <= num_palavras <= 3:\n",
    "        return \"Curta (2–3 palavras)\"\n",
    "    elif 4 <= num_palavras <= 6:\n",
    "        return \"Média (4–6 palavras)\"\n",
    "    else:\n",
    "        return \"Longa (7+ palavras)\"\n",
    "\n",
    "# Aplicando no DataFrame\n",
    "df['categoria_tamanho'] = final_database['english'].apply(categorizar_tamanho)\n",
    "\n",
    "# Contagem por categoria\n",
    "distribuicao = df['categoria_tamanho'].value_counts()\n",
    "print(distribuicao)\n"
   ]
  },
  {
   "cell_type": "code",
   "execution_count": 128,
   "id": "12b5b72b-3909-408d-acd2-cee862e915c8",
   "metadata": {},
   "outputs": [
    {
     "data": {
      "image/png": "[encoded data removed]",
      "text/plain": [
       "<Figure size 640x480 with 1 Axes>"
      ]
     },
     "metadata": {},
     "output_type": "display_data"
    },
    {
     "data": {
      "image/png": "[encoded data removed]",
      "text/plain": [
       "<Figure size 640x480 with 1 Axes>"
      ]
     },
     "metadata": {},
     "output_type": "display_data"
    }
   ],
   "source": [
    "import matplotlib.pyplot as plt\n",
    "\n",
    "final_database[\"english\"] = final_database[\"english\"].apply(len)\n",
    "final_database[\"phonetic\"] = final_database[\"phonetic\"].apply(len)\n",
    "\n",
    "plt.hist(final_database[\"english\"], bins=50)\n",
    "plt.title(\"Distribuição de comprimento das entradas\")\n",
    "plt.show()\n",
    "\n",
    "plt.hist(final_database[\"phonetic\"], bins=50)\n",
    "plt.title(\"Distribuição de comprimento das saídas\")\n",
    "plt.show()"
   ]
  },
  {
   "cell_type": "markdown",
   "id": "995a097b-2793-4500-9e37-12cded3e3354",
   "metadata": {},
   "source": [
    "### Testando mapeamento de palavras"
   ]
  }
 ],
 "metadata": {
  "kernelspec": {
   "display_name": "Python [conda env:base] *",
   "language": "python",
   "name": "conda-base-py"
  },
  "language_info": {
   "codemirror_mode": {
    "name": "ipython",
    "version": 3
   },
   "file_extension": ".py",
   "mimetype": "text/x-python",
   "name": "python",
   "nbconvert_exporter": "python",
   "pygments_lexer": "ipython3",
   "version": "3.11.7"
  }
 },
 "nbformat": 4,
 "nbformat_minor": 5
}
