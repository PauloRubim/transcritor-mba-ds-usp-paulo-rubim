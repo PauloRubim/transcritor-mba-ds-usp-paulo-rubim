{
 "cells": [
  {
   "cell_type": "code",
   "execution_count": 226,
   "id": "dd4db537-cf96-4baa-bd8c-b34d30c655e6",
   "metadata": {},
   "outputs": [],
   "source": [
    "import tensorflow as tf\n",
    "import json\n",
    "import pandas as pd\n",
    "import numpy as np\n",
    "import unicodedata\n",
    "import regex\n",
    "from rouge_score import rouge_scorer\n",
    "from tensorflow import keras\n",
    "from tensorflow.keras.models import Model\n",
    "from tensorflow.keras.layers import LSTM, Embedding, Dense, Bidirectional, Attention\n",
    "from tensorflow.keras.preprocessing.sequence import pad_sequences\n",
    "import editdistance\n",
    "from IPython.display import display, HTML\n",
    "import string\n",
    "import eng_to_ipa as ipa\n",
    "import pronouncing"
   ]
  },
  {
   "cell_type": "code",
   "execution_count": 3,
   "id": "aa36fcdf-aed1-4e21-be4b-976143187e74",
   "metadata": {},
   "outputs": [
    {
     "name": "stdout",
     "output_type": "stream",
     "text": [
      "WARNING:tensorflow:From C:\\Users\\USER\\anaconda3\\Lib\\site-packages\\keras\\src\\backend\\tensorflow\\core.py:216: The name tf.placeholder is deprecated. Please use tf.compat.v1.placeholder instead.\n",
      "\n"
     ]
    }
   ],
   "source": [
    "# Carregamento de Vocabulário e Modelo\n",
    "\n",
    "with open(\"model20/char_mappings_20.json\", \"r\", encoding=\"utf-8\") as f:\n",
    "    metadata = json.load(f)\n",
    "\n",
    "char2idx = {k: v for k, v in metadata[\"char2idx\"].items()}\n",
    "idx2char = {int(k): v for k, v in metadata[\"idx2char\"].items()}\n",
    "\n",
    "class Seq2Seq(Model):\n",
    "    def __init__(self, vocab_size, embedding_dim, units):\n",
    "        super().__init__()\n",
    "        self.vocab_size = vocab_size  \n",
    "        self.embedding_dim = embedding_dim\n",
    "        self.units = units\n",
    "\n",
    "        self.embedding = Embedding(vocab_size, embedding_dim, mask_zero=True)\n",
    "        self.encoder = Bidirectional(LSTM(units, return_sequences=True, return_state=True, dropout=0.4))\n",
    "        self.decoder = LSTM(units * 2, return_sequences=True, return_state=True, dropout=0.4)\n",
    "        self.attention = Attention()\n",
    "        self.fc = Dense(vocab_size, activation='softmax')\n",
    "\n",
    "    def call(self, inputs):\n",
    "        encoder_input, decoder_input = inputs\n",
    "        enc_emb = self.embedding(encoder_input)\n",
    "        dec_emb = self.embedding(decoder_input)\n",
    "\n",
    "        enc_output, forward_h, forward_c, backward_h, backward_c = self.encoder(enc_emb)\n",
    "        state_h = tf.concat([forward_h, backward_h], axis=-1)\n",
    "        state_c = tf.concat([forward_c, backward_c], axis=-1)\n",
    "\n",
    "        dec_output, _, _ = self.decoder(dec_emb, initial_state=[state_h, state_c])\n",
    "\n",
    "        # Melhorando a máscara\n",
    "        encoder_mask = tf.cast(tf.math.not_equal(encoder_input, 0), tf.float32)\n",
    "        encoder_mask = tf.expand_dims(encoder_mask, axis=1)\n",
    "\n",
    "        context_vector = self.attention([dec_output, enc_output], mask=[None, encoder_mask])\n",
    "        combined = tf.concat([dec_output, context_vector], axis=-1)\n",
    "        output = self.fc(combined)\n",
    "        return output\n",
    "\n",
    "    def get_config(self):\n",
    "        config = super().get_config()\n",
    "        config.update({\n",
    "            \"vocab_size\": self.vocab_size,\n",
    "            \"embedding_dim\": self.embedding_dim,\n",
    "            \"units\": self.units\n",
    "        })\n",
    "        return config\n",
    "\n",
    "    @classmethod\n",
    "    def from_config(cls, config):\n",
    "        return cls(\n",
    "            vocab_size=config[\"vocab_size\"],\n",
    "            embedding_dim=config[\"embedding_dim\"],\n",
    "            units=config[\"units\"]\n",
    "        )\n",
    "\n",
    "model = keras.models.load_model(\"model20/phonetic_transcriber_20.keras\", custom_objects={\"Seq2Seq\": Seq2Seq}, compile=False)"
   ]
  },
  {
   "cell_type": "code",
   "execution_count": 256,
   "id": "4ae7ae98-a9d7-4228-8a6a-0147755d805a",
   "metadata": {},
   "outputs": [],
   "source": [
    "#  Funções suporte\n",
    "\n",
    "DIACRITICOS_CUSTOMIZADOS = {\n",
    "    '\\u0317': 'red',     # ̗  - acute below\n",
    "    '\\u0333': 'gray',    # ̳  - double underline\n",
    "    '\\u0330': 'blue',    # ̰  - tilde below\n",
    "    '\\u031C': 'green'    # ̜  - half ring below\n",
    "}\n",
    "\n",
    "def letter_coloring(text):\n",
    "    result = []\n",
    "    graphemes = regex.findall(r\"\\X\", text)\n",
    "    for g in graphemes:\n",
    "        decomposed = unicodedata.normalize(\"NFD\", g)\n",
    "        base = decomposed[0]\n",
    "        diacritics = decomposed[1:]\n",
    "        custom_diacritic = next((d for d in diacritics if d in DIACRITICOS_CUSTOMIZADOS), None)\n",
    "        if custom_diacritic:\n",
    "            color = DIACRITICOS_CUSTOMIZADOS[custom_diacritic]\n",
    "            result.append(f'<span style=\"color:{color}; font-weight:bold\">{base}</span>')\n",
    "        else:\n",
    "            result.append(g)\n",
    "    return ''.join(result)\n",
    "\n",
    "def cer(reference, hypothesis):\n",
    "    if len(reference) == 0:\n",
    "        return 1.0 if len(hypothesis) > 0 else 0.0\n",
    "    return editdistance.eval(reference, hypothesis) / len(reference)\n",
    "\n",
    "def calculate_rouge(reference, prediction):\n",
    "    scorer = rouge_scorer.RougeScorer([\"rouge1\", \"rouge2\", \"rougeL\"], use_stemmer=True)\n",
    "    return scorer.score(reference, prediction)\n",
    "\n",
    "def text_to_seq(text):\n",
    "    return [char2idx[char] for char in text]\n",
    "\n",
    "def text_to_seq_phonetic(text):\n",
    "    return [char2idx[\"<start>\"]] + [char2idx[char] for char in text] + [char2idx[\"<end>\"]]\n",
    "\n",
    "def beam_search_decode(model, input_seq, beam_width=5, max_length_decoder=150):\n",
    "    start_token = char2idx[\"<start>\"]\n",
    "    end_token = char2idx[\"<end>\"]\n",
    "\n",
    "    enc_emb = model.embedding(input_seq)\n",
    "    enc_output, forward_h, forward_c, backward_h, backward_c = model.encoder(enc_emb)\n",
    "    state_h = tf.concat([forward_h, backward_h], axis=-1)\n",
    "    state_c = tf.concat([forward_c, backward_c], axis=-1)\n",
    "\n",
    "    sequences = [[[], 1.0, state_h, state_c]]\n",
    "\n",
    "    for _ in range(max_length_decoder):\n",
    "        all_candidates = []\n",
    "        for seq, score, h, c in sequences:\n",
    "            if seq and seq[-1] == end_token:\n",
    "                all_candidates.append((seq, score, h, c))\n",
    "                continue\n",
    "\n",
    "            decoder_input = np.array([[seq[-1]]] if seq else [[start_token]])\n",
    "            dec_emb = model.embedding(decoder_input)\n",
    "            dec_output, new_h, new_c = model.decoder(dec_emb, initial_state=[h, c])\n",
    "\n",
    "            encoder_mask = tf.cast(tf.math.not_equal(input_seq, 0), tf.float32)\n",
    "            encoder_mask = tf.expand_dims(encoder_mask, axis=1)\n",
    "            context_vector = model.attention([dec_output, enc_output], mask=[None, encoder_mask])\n",
    "\n",
    "            combined = tf.concat([dec_output, context_vector], axis=-1)\n",
    "            pred = model.fc(combined).numpy()[0, -1, :]\n",
    "\n",
    "            top_k_idx = np.argsort(pred)[-beam_width:]\n",
    "            for idx in top_k_idx:\n",
    "                new_seq = seq + [idx]\n",
    "                new_score = score * pred[idx]\n",
    "                all_candidates.append((new_seq, new_score, new_h, new_c))\n",
    "\n",
    "        sequences = sorted(all_candidates, key=lambda x: x[1], reverse=True)[:beam_width]\n",
    "\n",
    "    best_seq = sequences[0][0] # saindo em lista de índices\n",
    "    return best_seq"
   ]
  },
  {
   "cell_type": "code",
   "execution_count": 254,
   "id": "e4fd36ac-5ba4-4c7f-8035-ca1c2d2d9806",
   "metadata": {},
   "outputs": [],
   "source": [
    "#  Avaliação de Métricas\n",
    "\n",
    "def evaluate_transcription(model, text, expected_transcription, beam_width=5, max_length_decoder=150):\n",
    "    input_seq = pad_sequences([text_to_seq(text)], maxlen=100, padding=\"post\")\n",
    "    best_seq = beam_search_decode(model, input_seq, beam_width, max_length_decoder)\n",
    "    predicted_transcription = \"\".join(idx2char.get(idx, \"?\") for idx in best_seq if idx not in [char2idx[\"<start>\"], char2idx[\"<end>\"]])\n",
    "\n",
    "    rouge_scores = calculate_rouge(expected_transcription, predicted_transcription)\n",
    "    cer_score = cer(expected_transcription, predicted_transcription)\n",
    "    accuracy = 1.0 if predicted_transcription == expected_transcription else 0.0\n",
    "\n",
    "    return {\n",
    "        \"Entrada\": text,\n",
    "        \"Saída Prevista\": predicted_transcription,\n",
    "        \"Saída Esperada\": expected_transcription,\n",
    "        \"ROUGE-1 F1\": rouge_scores[\"rouge1\"].fmeasure,\n",
    "        \"ROUGE-2 F1\": rouge_scores[\"rouge2\"].fmeasure,\n",
    "        \"ROUGE-L F1\": rouge_scores[\"rougeL\"].fmeasure,\n",
    "        \"CER\": cer_score,\n",
    "        \"Acurácia\": accuracy\n",
    "    }"
   ]
  },
  {
   "cell_type": "code",
   "execution_count": 113,
   "id": "e77186c5-dfc7-4579-8969-69edf5b54b90",
   "metadata": {},
   "outputs": [
    {
     "data": {
      "text/plain": [
       "ROUGE-1 F1    0.985238\n",
       "ROUGE-2 F1    0.946667\n",
       "ROUGE-L F1    0.985238\n",
       "CER           0.011069\n",
       "Acurácia      0.910000\n",
       "dtype: float64"
      ]
     },
     "execution_count": 113,
     "metadata": {},
     "output_type": "execute_result"
    }
   ],
   "source": [
    "#  Avaliando a Base\n",
    "\n",
    "df = pd.read_csv(\"words_and_frases_database_v8.csv\")\n",
    "df.dropna(inplace=True)\n",
    "\n",
    "def categorizar_tamanho(frase):\n",
    "    n = len(frase.split())\n",
    "    if n == 1:\n",
    "        return \"Única palavra\"\n",
    "    elif 2 <= n <= 3:\n",
    "        return \"Curta (2–3 palavras)\"\n",
    "    elif 4 <= n <= 6:\n",
    "        return \"Média (4–6 palavras)\"\n",
    "    else:\n",
    "        return \"Longa (7+ palavras)\"\n",
    "\n",
    "df[\"categoria_tamanho\"] = df[\"english\"].apply(categorizar_tamanho)\n",
    "\n",
    "n_amostras_por_categoria = 25\n",
    "amostra = (\n",
    "    df.groupby(\"categoria_tamanho\", group_keys=False)\n",
    "      .apply(lambda x: x.sample(n=n_amostras_por_categoria, random_state=42))\n",
    ")\n",
    "\n",
    "expected_transcriptions = {\n",
    "    phrase.strip().lower(): phonetic.strip()\n",
    "    for phrase, phonetic in zip(amostra[\"english\"], amostra[\"phonetic\"])\n",
    "}\n",
    "\n",
    "results = []\n",
    "for phrase, expected_transcription in expected_transcriptions.items():\n",
    "    metrics = evaluate_transcription(model, phrase, expected_transcription)\n",
    "    results.append(metrics)\n",
    "\n",
    "rouge_df = pd.DataFrame(results)\n",
    "rouge_df[[\"ROUGE-1 F1\", \"ROUGE-2 F1\", \"ROUGE-L F1\", \"CER\", \"Acurácia\"]].mean()"
   ]
  },
  {
   "cell_type": "code",
   "execution_count": 115,
   "id": "9b9412b0-37d9-4fc0-89cf-d9e083742c6f",
   "metadata": {},
   "outputs": [
    {
     "data": {
      "text/plain": [
       "{'Única palavra': 0.86,\n",
       " 'Curta (2-3)': 0.89,\n",
       " 'Média (4-6)': 0.89,\n",
       " 'Longa (7+)': 0.96}"
      ]
     },
     "execution_count": 115,
     "metadata": {},
     "output_type": "execute_result"
    }
   ],
   "source": [
    "#  Avaliação por Tamanho de Frase\n",
    "\n",
    "def avaliar_acuracia_por_tamanho(model, df, beam_width=5, max_length_decoder=50):\n",
    "    def avaliar_amostra(amostra):\n",
    "        resultados = []\n",
    "        for frase, esperado in zip(amostra[\"english\"], amostra[\"phonetic\"]):\n",
    "            resultado = evaluate_transcription(\n",
    "                model, frase.strip().lower(), esperado.strip(),\n",
    "                beam_width=beam_width, max_length_decoder=max_length_decoder\n",
    "            )\n",
    "            resultados.append(resultado[\"Acurácia\"])\n",
    "        return round(np.mean(resultados), 4)\n",
    "\n",
    "    # df[\"N_palavras\"] = df[\"english\"].apply(lambda x: len(str(x).split()))\n",
    "\n",
    "    faixas = {\n",
    "        \"Única palavra\": df[df[\"categoria_tamanho\"] == 'Única palavra'].sample(n=100, random_state=42),\n",
    "        \"Curta (2-3)\": df[df[\"categoria_tamanho\"] == 'Curta (2–3 palavras)'].sample(n=100, random_state=42),\n",
    "        \"Média (4-6)\": df[df[\"categoria_tamanho\"] == 'Média (4–6 palavras)'].sample(n=100, random_state=42),\n",
    "        \"Longa (7+)\": df[df[\"categoria_tamanho\"] == 'Longa (7+ palavras)'].sample(n=100, random_state=42),\n",
    "    }\n",
    "\n",
    "    resultados_finais = {}\n",
    "    for faixa, amostra in faixas.items():\n",
    "        acuracia_media = avaliar_amostra(amostra)\n",
    "        resultados_finais[faixa] = acuracia_media\n",
    "\n",
    "    return resultados_finais\n",
    "\n",
    "# Avaliar\n",
    "resultados_por_tamanho = avaliar_acuracia_por_tamanho(model, df)\n",
    "resultados_por_tamanho"
   ]
  },
  {
   "cell_type": "code",
   "execution_count": 208,
   "id": "c78b6622-4f23-4007-99c1-23c1e0f95fa8",
   "metadata": {},
   "outputs": [],
   "source": [
    "def substituir_apostrofo_para_inferencia(texto):\n",
    "    \"\"\"\n",
    "    Substitui o apóstrofo tradicional ' por um símbolo reconhecido pelo modelo\n",
    "    no momento da inferência.\n",
    "    \"\"\"\n",
    "    if texto is None:\n",
    "        return texto\n",
    "    \n",
    "    # Substituir o apóstrofo ' (U+0027) por o que o modelo conhece\n",
    "    # Aqui vamos substituir pelo acento agudo ´ (U+00B4), que no seu mapeamento é o idx 48.\n",
    "    return texto.replace(\"'\", \"´\")\n"
   ]
  },
  {
   "cell_type": "code",
   "execution_count": 249,
   "id": "991160da-2227-4b24-808f-5f3c395b4cc9",
   "metadata": {},
   "outputs": [],
   "source": [
    "def frase_para_arpabet(frase):\n",
    "    palavras = frase.split()\n",
    "    resultado = []\n",
    "    \n",
    "    for palavra in palavras:\n",
    "        pronuncias = pronouncing.phones_for_word(palavra.lower())\n",
    "        if pronuncias:\n",
    "            resultado.append(pronuncias[0])\n",
    "        else:\n",
    "            resultado.append(\"[UNK]\")  # Se não encontrar a palavra no dicionário\n",
    "\n",
    "    return ' - '.join(resultado)"
   ]
  },
  {
   "cell_type": "code",
   "execution_count": 272,
   "id": "629d1f57-a88a-45b9-b49d-ff564329c508",
   "metadata": {},
   "outputs": [
    {
     "data": {
      "text/html": [
       "<b>Entrada do Modelo:</b> think fast"
      ],
      "text/plain": [
       "<IPython.core.display.HTML object>"
      ]
     },
     "metadata": {},
     "output_type": "display_data"
    },
    {
     "data": {
      "text/html": [
       "<b>Saída do Modelo:</b> <span style=\"color:red; font-weight:bold\">s</span>ên<span style=\"color:gray; font-weight:bold\">k</span> fés<span style=\"color:gray; font-weight:bold\">t</span><end>"
      ],
      "text/plain": [
       "<IPython.core.display.HTML object>"
      ]
     },
     "metadata": {},
     "output_type": "display_data"
    },
    {
     "data": {
      "text/html": [
       "<b>Transcrição fonética IPA:</b> θɪŋk fæst"
      ],
      "text/plain": [
       "<IPython.core.display.HTML object>"
      ]
     },
     "metadata": {},
     "output_type": "display_data"
    },
    {
     "data": {
      "text/html": [
       "<b>Transcrição fonética ARPAbet:</b> TH IH1 NG K - F AE1 S T"
      ],
      "text/plain": [
       "<IPython.core.display.HTML object>"
      ]
     },
     "metadata": {},
     "output_type": "display_data"
    },
    {
     "name": "stdout",
     "output_type": "stream",
     "text": [
      "\n"
     ]
    },
    {
     "data": {
      "text/html": [
       "<b>Entrada do Modelo:</b> red bus"
      ],
      "text/plain": [
       "<IPython.core.display.HTML object>"
      ]
     },
     "metadata": {},
     "output_type": "display_data"
    },
    {
     "data": {
      "text/html": [
       "<b>Saída do Modelo:</b> <span style=\"color:blue; font-weight:bold\">r</span>é<span style=\"color:gray; font-weight:bold\">d</span> bâs<end>"
      ],
      "text/plain": [
       "<IPython.core.display.HTML object>"
      ]
     },
     "metadata": {},
     "output_type": "display_data"
    },
    {
     "data": {
      "text/html": [
       "<b>Transcrição fonética IPA:</b> rɛd bəs"
      ],
      "text/plain": [
       "<IPython.core.display.HTML object>"
      ]
     },
     "metadata": {},
     "output_type": "display_data"
    },
    {
     "data": {
      "text/html": [
       "<b>Transcrição fonética ARPAbet:</b> R EH1 D - B AH1 S"
      ],
      "text/plain": [
       "<IPython.core.display.HTML object>"
      ]
     },
     "metadata": {},
     "output_type": "display_data"
    },
    {
     "name": "stdout",
     "output_type": "stream",
     "text": [
      "\n"
     ]
    },
    {
     "data": {
      "text/html": [
       "<b>Entrada do Modelo:</b> what's next"
      ],
      "text/plain": [
       "<IPython.core.display.HTML object>"
      ]
     },
     "metadata": {},
     "output_type": "display_data"
    },
    {
     "data": {
      "text/html": [
       "<b>Saída do Modelo:</b> uát’s néks<span style=\"color:gray; font-weight:bold\">t</span><end>"
      ],
      "text/plain": [
       "<IPython.core.display.HTML object>"
      ]
     },
     "metadata": {},
     "output_type": "display_data"
    },
    {
     "data": {
      "text/html": [
       "<b>Transcrição fonética IPA:</b> wəts nɛkst"
      ],
      "text/plain": [
       "<IPython.core.display.HTML object>"
      ]
     },
     "metadata": {},
     "output_type": "display_data"
    },
    {
     "data": {
      "text/html": [
       "<b>Transcrição fonética ARPAbet:</b> W AH1 T S - N EH1 K S T"
      ],
      "text/plain": [
       "<IPython.core.display.HTML object>"
      ]
     },
     "metadata": {},
     "output_type": "display_data"
    },
    {
     "name": "stdout",
     "output_type": "stream",
     "text": [
      "\n"
     ]
    },
    {
     "data": {
      "text/html": [
       "<b>Entrada do Modelo:</b> take the first right"
      ],
      "text/plain": [
       "<IPython.core.display.HTML object>"
      ]
     },
     "metadata": {},
     "output_type": "display_data"
    },
    {
     "data": {
      "text/html": [
       "<b>Saída do Modelo:</b> t’ei<span style=\"color:gray; font-weight:bold\">k</span> <span style=\"color:red; font-weight:bold\">z</span>â fâ<span style=\"color:blue; font-weight:bold\">r</span>s<span style=\"color:gray; font-weight:bold\">t</span> <span style=\"color:blue; font-weight:bold\">r</span>ai<span style=\"color:gray; font-weight:bold\">t</span><end>"
      ],
      "text/plain": [
       "<IPython.core.display.HTML object>"
      ]
     },
     "metadata": {},
     "output_type": "display_data"
    },
    {
     "data": {
      "text/html": [
       "<b>Transcrição fonética IPA:</b> teɪk ðə fərst raɪt"
      ],
      "text/plain": [
       "<IPython.core.display.HTML object>"
      ]
     },
     "metadata": {},
     "output_type": "display_data"
    },
    {
     "data": {
      "text/html": [
       "<b>Transcrição fonética ARPAbet:</b> T EY1 K - DH AH0 - F ER1 S T - R AY1 T"
      ],
      "text/plain": [
       "<IPython.core.display.HTML object>"
      ]
     },
     "metadata": {},
     "output_type": "display_data"
    },
    {
     "name": "stdout",
     "output_type": "stream",
     "text": [
      "\n"
     ]
    },
    {
     "data": {
      "text/html": [
       "<b>Entrada do Modelo:</b> where's the nearest pharmacy"
      ],
      "text/plain": [
       "<IPython.core.display.HTML object>"
      ]
     },
     "metadata": {},
     "output_type": "display_data"
    },
    {
     "data": {
      "text/html": [
       "<b>Saída do Modelo:</b> ué<span style=\"color:blue; font-weight:bold\">r</span>z <span style=\"color:red; font-weight:bold\">z</span>â ní<span style=\"color:blue; font-weight:bold\">r</span>es<span style=\"color:gray; font-weight:bold\">t</span> fá<span style=\"color:blue; font-weight:bold\">r</span>mâssi<end>"
      ],
      "text/plain": [
       "<IPython.core.display.HTML object>"
      ]
     },
     "metadata": {},
     "output_type": "display_data"
    },
    {
     "data": {
      "text/html": [
       "<b>Transcrição fonética IPA:</b> wɛrz ðə ˈnɪrəst ˈfɑrməsi"
      ],
      "text/plain": [
       "<IPython.core.display.HTML object>"
      ]
     },
     "metadata": {},
     "output_type": "display_data"
    },
    {
     "data": {
      "text/html": [
       "<b>Transcrição fonética ARPAbet:</b> W EH1 R Z - DH AH0 - N IH1 R AH0 S T - F AA1 R M AH0 S IY0"
      ],
      "text/plain": [
       "<IPython.core.display.HTML object>"
      ]
     },
     "metadata": {},
     "output_type": "display_data"
    },
    {
     "name": "stdout",
     "output_type": "stream",
     "text": [
      "\n"
     ]
    },
    {
     "data": {
      "text/html": [
       "<b>Entrada do Modelo:</b> please turn on the lights"
      ],
      "text/plain": [
       "<IPython.core.display.HTML object>"
      ]
     },
     "metadata": {},
     "output_type": "display_data"
    },
    {
     "data": {
      "text/html": [
       "<b>Saída do Modelo:</b> plíz tchâ<span style=\"color:blue; font-weight:bold\">r</span><span style=\"color:green; font-weight:bold\">n</span> o<span style=\"color:green; font-weight:bold\">n</span> <span style=\"color:red; font-weight:bold\">z</span>â laits<end>"
      ],
      "text/plain": [
       "<IPython.core.display.HTML object>"
      ]
     },
     "metadata": {},
     "output_type": "display_data"
    },
    {
     "data": {
      "text/html": [
       "<b>Transcrição fonética IPA:</b> pliz tərn ɔn ðə laɪts"
      ],
      "text/plain": [
       "<IPython.core.display.HTML object>"
      ]
     },
     "metadata": {},
     "output_type": "display_data"
    },
    {
     "data": {
      "text/html": [
       "<b>Transcrição fonética ARPAbet:</b> P L IY1 Z - T ER1 N - AA1 N - DH AH0 - L AY1 T S"
      ],
      "text/plain": [
       "<IPython.core.display.HTML object>"
      ]
     },
     "metadata": {},
     "output_type": "display_data"
    },
    {
     "name": "stdout",
     "output_type": "stream",
     "text": [
      "\n"
     ]
    },
    {
     "data": {
      "text/html": [
       "<b>Entrada do Modelo:</b> this is my third attempt"
      ],
      "text/plain": [
       "<IPython.core.display.HTML object>"
      ]
     },
     "metadata": {},
     "output_type": "display_data"
    },
    {
     "data": {
      "text/html": [
       "<b>Saída do Modelo:</b> <span style=\"color:red; font-weight:bold\">z</span>ês êz mai <span style=\"color:red; font-weight:bold\">s</span>â<span style=\"color:blue; font-weight:bold\">r</span><span style=\"color:gray; font-weight:bold\">d</span> âtemp<span style=\"color:gray; font-weight:bold\">t</span><end>"
      ],
      "text/plain": [
       "<IPython.core.display.HTML object>"
      ]
     },
     "metadata": {},
     "output_type": "display_data"
    },
    {
     "data": {
      "text/html": [
       "<b>Transcrição fonética IPA:</b> ðɪs ɪz maɪ θərd əˈtɛmpt"
      ],
      "text/plain": [
       "<IPython.core.display.HTML object>"
      ]
     },
     "metadata": {},
     "output_type": "display_data"
    },
    {
     "data": {
      "text/html": [
       "<b>Transcrição fonética ARPAbet:</b> DH IH1 S - IH1 Z - M AY1 - TH ER1 D - AH0 T EH1 M P T"
      ],
      "text/plain": [
       "<IPython.core.display.HTML object>"
      ]
     },
     "metadata": {},
     "output_type": "display_data"
    },
    {
     "name": "stdout",
     "output_type": "stream",
     "text": [
      "\n"
     ]
    },
    {
     "data": {
      "text/html": [
       "<b>Entrada do Modelo:</b> he's thinking about leaving soon"
      ],
      "text/plain": [
       "<IPython.core.display.HTML object>"
      ]
     },
     "metadata": {},
     "output_type": "display_data"
    },
    {
     "data": {
      "text/html": [
       "<b>Saída do Modelo:</b> réls <span style=\"color:red; font-weight:bold\">s</span>ênkên âbau<span style=\"color:gray; font-weight:bold\">t</span> lívên sû<span style=\"color:green; font-weight:bold\">n</span><end>"
      ],
      "text/plain": [
       "<IPython.core.display.HTML object>"
      ]
     },
     "metadata": {},
     "output_type": "display_data"
    },
    {
     "data": {
      "text/html": [
       "<b>Transcrição fonética IPA:</b> hiz ˈθɪŋkɪŋ əˈbaʊt ˈlivɪŋ sun"
      ],
      "text/plain": [
       "<IPython.core.display.HTML object>"
      ]
     },
     "metadata": {},
     "output_type": "display_data"
    },
    {
     "data": {
      "text/html": [
       "<b>Transcrição fonética ARPAbet:</b> HH IY1 Z - TH IH1 NG K IH0 NG - AH0 B AW1 T - L IY1 V IH0 NG - S UW1 N"
      ],
      "text/plain": [
       "<IPython.core.display.HTML object>"
      ]
     },
     "metadata": {},
     "output_type": "display_data"
    },
    {
     "name": "stdout",
     "output_type": "stream",
     "text": [
      "\n"
     ]
    },
    {
     "data": {
      "text/html": [
       "<b>Entrada do Modelo:</b> could you tell me where the station is"
      ],
      "text/plain": [
       "<IPython.core.display.HTML object>"
      ]
     },
     "metadata": {},
     "output_type": "display_data"
    },
    {
     "data": {
      "text/html": [
       "<b>Saída do Modelo:</b> kû<span style=\"color:gray; font-weight:bold\">d</span> iú t’él mi ué<span style=\"color:blue; font-weight:bold\">r</span> <span style=\"color:red; font-weight:bold\">z</span>â stêixan êz<end>"
      ],
      "text/plain": [
       "<IPython.core.display.HTML object>"
      ]
     },
     "metadata": {},
     "output_type": "display_data"
    },
    {
     "data": {
      "text/html": [
       "<b>Transcrição fonética IPA:</b> kʊd ju tɛl mi wɛr ðə ˈsteɪʃən ɪz"
      ],
      "text/plain": [
       "<IPython.core.display.HTML object>"
      ]
     },
     "metadata": {},
     "output_type": "display_data"
    },
    {
     "data": {
      "text/html": [
       "<b>Transcrição fonética ARPAbet:</b> K UH1 D - Y UW1 - T EH1 L - M IY1 - W EH1 R - DH AH0 - S T EY1 SH AH0 N - IH1 Z"
      ],
      "text/plain": [
       "<IPython.core.display.HTML object>"
      ]
     },
     "metadata": {},
     "output_type": "display_data"
    },
    {
     "name": "stdout",
     "output_type": "stream",
     "text": [
      "\n"
     ]
    },
    {
     "data": {
      "text/html": [
       "<b>Entrada do Modelo:</b> i thought that taking the shortcut was smarter"
      ],
      "text/plain": [
       "<IPython.core.display.HTML object>"
      ]
     },
     "metadata": {},
     "output_type": "display_data"
    },
    {
     "data": {
      "text/html": [
       "<b>Saída do Modelo:</b> ai <span style=\"color:red; font-weight:bold\">s</span>ó<span style=\"color:gray; font-weight:bold\">t</span> <span style=\"color:red; font-weight:bold\">z</span>é<span style=\"color:gray; font-weight:bold\">t</span> t’eikên <span style=\"color:red; font-weight:bold\">z</span>â xo<span style=\"color:blue; font-weight:bold\">r</span><span style=\"color:gray; font-weight:bold\">t</span>kâ<span style=\"color:gray; font-weight:bold\">t</span> uóz sma<span style=\"color:blue; font-weight:bold\">r</span>t’â<span style=\"color:blue; font-weight:bold\">r</span><end>"
      ],
      "text/plain": [
       "<IPython.core.display.HTML object>"
      ]
     },
     "metadata": {},
     "output_type": "display_data"
    },
    {
     "data": {
      "text/html": [
       "<b>Transcrição fonética IPA:</b> aɪ θɔt ðət ˈteɪkɪŋ ðə ˈʃɔrtˌkət wɑz sˈmɑrtər"
      ],
      "text/plain": [
       "<IPython.core.display.HTML object>"
      ]
     },
     "metadata": {},
     "output_type": "display_data"
    },
    {
     "data": {
      "text/html": [
       "<b>Transcrição fonética ARPAbet:</b> AY1 - TH AO1 T - DH AE1 T - T EY1 K IH0 NG - DH AH0 - SH AO1 R T K AH2 T - W AA1 Z - S M AA1 R T ER0"
      ],
      "text/plain": [
       "<IPython.core.display.HTML object>"
      ]
     },
     "metadata": {},
     "output_type": "display_data"
    },
    {
     "name": "stdout",
     "output_type": "stream",
     "text": [
      "\n"
     ]
    },
    {
     "data": {
      "text/html": [
       "<b>Entrada do Modelo:</b> they're planning to throw a surprise party soon"
      ],
      "text/plain": [
       "<IPython.core.display.HTML object>"
      ]
     },
     "metadata": {},
     "output_type": "display_data"
    },
    {
     "data": {
      "text/html": [
       "<b>Saída do Modelo:</b> <span style=\"color:red; font-weight:bold\">z</span>ê<span style=\"color:blue; font-weight:bold\">r</span> plénen t’u <span style=\"color:red; font-weight:bold\">s</span><span style=\"color:blue; font-weight:bold\">r</span>ou a sâ<span style=\"color:blue; font-weight:bold\">r</span>p<span style=\"color:blue; font-weight:bold\">r</span>aiz pá<span style=\"color:blue; font-weight:bold\">r</span>t’i sûn<end>"
      ],
      "text/plain": [
       "<IPython.core.display.HTML object>"
      ]
     },
     "metadata": {},
     "output_type": "display_data"
    },
    {
     "data": {
      "text/html": [
       "<b>Transcrição fonética IPA:</b> ðɛr ˈplænɪŋ tɪ θroʊ ə səˈpraɪz ˈpɑrti sun"
      ],
      "text/plain": [
       "<IPython.core.display.HTML object>"
      ]
     },
     "metadata": {},
     "output_type": "display_data"
    },
    {
     "data": {
      "text/html": [
       "<b>Transcrição fonética ARPAbet:</b> DH EH1 R - P L AE1 N IH0 NG - T UW1 - TH R OW1 - AH0 - S ER0 P R AY1 Z - P AA1 R T IY0 - S UW1 N"
      ],
      "text/plain": [
       "<IPython.core.display.HTML object>"
      ]
     },
     "metadata": {},
     "output_type": "display_data"
    },
    {
     "name": "stdout",
     "output_type": "stream",
     "text": [
      "\n"
     ]
    },
    {
     "data": {
      "text/html": [
       "<b>Entrada do Modelo:</b> what time should we meet at the cafe today"
      ],
      "text/plain": [
       "<IPython.core.display.HTML object>"
      ]
     },
     "metadata": {},
     "output_type": "display_data"
    },
    {
     "data": {
      "text/html": [
       "<b>Saída do Modelo:</b> uá<span style=\"color:gray; font-weight:bold\">t</span> t’aim xû<span style=\"color:gray; font-weight:bold\">d</span> uí mí<span style=\"color:gray; font-weight:bold\">t</span> é<span style=\"color:gray; font-weight:bold\">t</span> <span style=\"color:red; font-weight:bold\">z</span>â kafêi t’âdêi<end>"
      ],
      "text/plain": [
       "<IPython.core.display.HTML object>"
      ]
     },
     "metadata": {},
     "output_type": "display_data"
    },
    {
     "data": {
      "text/html": [
       "<b>Transcrição fonética IPA:</b> wət taɪm ʃʊd wi mit æt ðə kəˈfeɪ təˈdeɪ"
      ],
      "text/plain": [
       "<IPython.core.display.HTML object>"
      ]
     },
     "metadata": {},
     "output_type": "display_data"
    },
    {
     "data": {
      "text/html": [
       "<b>Transcrição fonética ARPAbet:</b> W AH1 T - T AY1 M - SH UH1 D - W IY1 - M IY1 T - AE1 T - DH AH0 - K AH0 F EY1 - T AH0 D EY1"
      ],
      "text/plain": [
       "<IPython.core.display.HTML object>"
      ]
     },
     "metadata": {},
     "output_type": "display_data"
    },
    {
     "name": "stdout",
     "output_type": "stream",
     "text": [
      "\n"
     ]
    },
    {
     "data": {
      "text/html": [
       "<b>Entrada do Modelo:</b> the train arrives earlier than expected sometimes"
      ],
      "text/plain": [
       "<IPython.core.display.HTML object>"
      ]
     },
     "metadata": {},
     "output_type": "display_data"
    },
    {
     "data": {
      "text/html": [
       "<b>Saída do Modelo:</b> <span style=\"color:red; font-weight:bold\">z</span>â t<span style=\"color:blue; font-weight:bold\">r</span>ei<span style=\"color:green; font-weight:bold\">n</span> â<span style=\"color:blue; font-weight:bold\">r</span>ai<span style=\"color:gray; font-weight:bold\">v</span>z â<span style=\"color:blue; font-weight:bold\">r</span>liâ<span style=\"color:blue; font-weight:bold\">r</span> <span style=\"color:red; font-weight:bold\">z</span>e<span style=\"color:green; font-weight:bold\">n</span> ékspékt’e<span style=\"color:gray; font-weight:bold\">d</span> só<span style=\"color:green; font-weight:bold\">m</span>tai<span style=\"color:green; font-weight:bold\">m</span>s<end>"
      ],
      "text/plain": [
       "<IPython.core.display.HTML object>"
      ]
     },
     "metadata": {},
     "output_type": "display_data"
    },
    {
     "data": {
      "text/html": [
       "<b>Transcrição fonética IPA:</b> ðə treɪn əraɪvz ˈərliər ðən ɪkˈspɛktɪd ˈsəmˌtaɪmz"
      ],
      "text/plain": [
       "<IPython.core.display.HTML object>"
      ]
     },
     "metadata": {},
     "output_type": "display_data"
    },
    {
     "data": {
      "text/html": [
       "<b>Transcrição fonética ARPAbet:</b> DH AH0 - T R EY1 N - ER0 AY1 V Z - ER1 L IY0 ER0 - DH AE1 N - IH0 K S P EH1 K T AH0 D - S AH0 M T AY1 M Z"
      ],
      "text/plain": [
       "<IPython.core.display.HTML object>"
      ]
     },
     "metadata": {},
     "output_type": "display_data"
    },
    {
     "name": "stdout",
     "output_type": "stream",
     "text": [
      "\n"
     ]
    }
   ],
   "source": [
    "test_phrases = [\n",
    "    # Curtas (2-3 palavras)\n",
    "    \"think fast\",                        # /θ/, T forte\n",
    "    \"red bus\",                           # /ɹ/\n",
    "    \"what's next\",                       # T aspirado, flap T\n",
    "    \n",
    "    # Médias (4–7 palavras)\n",
    "    \"take the first right\",              # /tʰ/, /ð/, /ɹ/\n",
    "    \"where's the nearest pharmacy\",      # /ɹ/, /ð/, nasal\n",
    "    \"please turn on the lights\",         # /ɹ/, atenuação\n",
    "    \"this is my third attempt\",          # /θ/, /ð/, nasal final\n",
    "    \"he's thinking about leaving soon\",  # /θ/, nasal final\n",
    "\n",
    "    # Longas (8+ palavras)\n",
    "    \"could you tell me where the station is\",          # /tʰ/, /ð/, /ɹ/, atenuação\n",
    "    \"i thought that taking the shortcut was smarter\",  # /θ/, /ð/, /ɹ/, T aspirado\n",
    "    \"they're planning to throw a surprise party soon\", # /θ/, /ɹ/, nasal\n",
    "    \"what time should we meet at the cafe today\",       # /tʰ/, /ɹ/, /ð/, nasal final\n",
    "    \"the train arrives earlier than expected sometimes\" # /tʰ/, /ɹ/, nasal\n",
    "]\n",
    "\n",
    "\n",
    "test_results = []\n",
    "\n",
    "for frase in test_phrases:\n",
    "    entrada_preparada = substituir_apostrofo_para_inferencia(frase)\n",
    "    input_seq = text_to_seq(entrada_preparada)  \n",
    "    input_seq = pad_sequences([input_seq], maxlen=100, padding='post')\n",
    " \n",
    "    predicted_indices = beam_search_decode(model, input_seq, beam_width=5)\n",
    "\n",
    "    raw_transcription = ''.join(idx2char.get(idx, '') for idx in predicted_indices)\n",
    "\n",
    "    transcription_colored = letter_coloring(raw_transcription)\n",
    "\n",
    "\n",
    "    display(HTML(f\"<b>Entrada do Modelo:</b> {frase}\"))\n",
    "    display(HTML(f\"<b>Saída do Modelo:</b> {transcription_colored}\"))\n",
    "    # display(HTML(f\"<b>Transcrição limpa:</b> {raw_transcription}\\n\"))\n",
    "    display(HTML(f\"<b>Transcrição fonética IPA:</b> {ipa.convert(frase)}\"))\n",
    "    display(HTML(f\"<b>Transcrição fonética ARPAbet:</b> {frase_para_arpabet(frase)}\"))\n",
    "    print('')\n",
    "    \n",
    "\n",
    "    test_results.append({\n",
    "        \"Frase \": frase,\n",
    "        \"Saída Prevista (Raw)\": entrada_preparada,\n",
    "        \"Saída Prevista (Colorida)\": transcription_colored\n",
    "    })"
   ]
  }
 ],
 "metadata": {
  "kernelspec": {
   "display_name": "Python [conda env:base] *",
   "language": "python",
   "name": "conda-base-py"
  },
  "language_info": {
   "codemirror_mode": {
    "name": "ipython",
    "version": 3
   },
   "file_extension": ".py",
   "mimetype": "text/x-python",
   "name": "python",
   "nbconvert_exporter": "python",
   "pygments_lexer": "ipython3",
   "version": "3.11.7"
  }
 },
 "nbformat": 4,
 "nbformat_minor": 5
}
